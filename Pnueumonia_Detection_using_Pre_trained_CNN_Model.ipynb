{
  "nbformat": 4,
  "nbformat_minor": 0,
  "metadata": {
    "kernelspec": {
      "display_name": "Python 3",
      "language": "python",
      "name": "python3"
    },
    "language_info": {
      "codemirror_mode": {
        "name": "ipython",
        "version": 3
      },
      "file_extension": ".py",
      "mimetype": "text/x-python",
      "name": "python",
      "nbconvert_exporter": "python",
      "pygments_lexer": "ipython3",
      "version": "3.8.10"
    },
    "colab": {
      "name": "Pnueumonia Detection using Pre-trained CNN Model",
      "provenance": [],
      "collapsed_sections": [],
      "include_colab_link": true
    },
    "accelerator": "GPU"
  },
  "cells": [
    {
      "cell_type": "markdown",
      "metadata": {
        "id": "view-in-github",
        "colab_type": "text"
      },
      "source": [
        "<a href=\"https://colab.research.google.com/github/pranav033-ctrl/Pnuenmonia-Detection-Using-CNN-based-Pre-trained-Models/blob/main/Pnueumonia_Detection_using_Pre_trained_CNN_Model.ipynb\" target=\"_parent\"><img src=\"https://colab.research.google.com/assets/colab-badge.svg\" alt=\"Open In Colab\"/></a>"
      ]
    },
    {
      "cell_type": "code",
      "metadata": {
        "id": "UB35u7hx88Sd"
      },
      "source": [
        "! pip install -q kaggle"
      ],
      "execution_count": 11,
      "outputs": []
    },
    {
      "cell_type": "code",
      "metadata": {
        "id": "Gr_j4_iK9F52",
        "colab": {
          "base_uri": "https://localhost:8080/"
        },
        "outputId": "00dde784-f336-4286-e0e4-2b68db735e98"
      },
      "source": [
        " ! mkdir ~/.kaggle"
      ],
      "execution_count": 12,
      "outputs": [
        {
          "output_type": "stream",
          "name": "stdout",
          "text": [
            "mkdir: cannot create directory ‘/root/.kaggle’: File exists\n"
          ]
        }
      ]
    },
    {
      "cell_type": "code",
      "metadata": {
        "colab": {
          "resources": {
            "http://localhost:8080/nbextensions/google.colab/files.js": {
              "data": "Ly8gQ29weXJpZ2h0IDIwMTcgR29vZ2xlIExMQwovLwovLyBMaWNlbnNlZCB1bmRlciB0aGUgQXBhY2hlIExpY2Vuc2UsIFZlcnNpb24gMi4wICh0aGUgIkxpY2Vuc2UiKTsKLy8geW91IG1heSBub3QgdXNlIHRoaXMgZmlsZSBleGNlcHQgaW4gY29tcGxpYW5jZSB3aXRoIHRoZSBMaWNlbnNlLgovLyBZb3UgbWF5IG9idGFpbiBhIGNvcHkgb2YgdGhlIExpY2Vuc2UgYXQKLy8KLy8gICAgICBodHRwOi8vd3d3LmFwYWNoZS5vcmcvbGljZW5zZXMvTElDRU5TRS0yLjAKLy8KLy8gVW5sZXNzIHJlcXVpcmVkIGJ5IGFwcGxpY2FibGUgbGF3IG9yIGFncmVlZCB0byBpbiB3cml0aW5nLCBzb2Z0d2FyZQovLyBkaXN0cmlidXRlZCB1bmRlciB0aGUgTGljZW5zZSBpcyBkaXN0cmlidXRlZCBvbiBhbiAiQVMgSVMiIEJBU0lTLAovLyBXSVRIT1VUIFdBUlJBTlRJRVMgT1IgQ09ORElUSU9OUyBPRiBBTlkgS0lORCwgZWl0aGVyIGV4cHJlc3Mgb3IgaW1wbGllZC4KLy8gU2VlIHRoZSBMaWNlbnNlIGZvciB0aGUgc3BlY2lmaWMgbGFuZ3VhZ2UgZ292ZXJuaW5nIHBlcm1pc3Npb25zIGFuZAovLyBsaW1pdGF0aW9ucyB1bmRlciB0aGUgTGljZW5zZS4KCi8qKgogKiBAZmlsZW92ZXJ2aWV3IEhlbHBlcnMgZm9yIGdvb2dsZS5jb2xhYiBQeXRob24gbW9kdWxlLgogKi8KKGZ1bmN0aW9uKHNjb3BlKSB7CmZ1bmN0aW9uIHNwYW4odGV4dCwgc3R5bGVBdHRyaWJ1dGVzID0ge30pIHsKICBjb25zdCBlbGVtZW50ID0gZG9jdW1lbnQuY3JlYXRlRWxlbWVudCgnc3BhbicpOwogIGVsZW1lbnQudGV4dENvbnRlbnQgPSB0ZXh0OwogIGZvciAoY29uc3Qga2V5IG9mIE9iamVjdC5rZXlzKHN0eWxlQXR0cmlidXRlcykpIHsKICAgIGVsZW1lbnQuc3R5bGVba2V5XSA9IHN0eWxlQXR0cmlidXRlc1trZXldOwogIH0KICByZXR1cm4gZWxlbWVudDsKfQoKLy8gTWF4IG51bWJlciBvZiBieXRlcyB3aGljaCB3aWxsIGJlIHVwbG9hZGVkIGF0IGEgdGltZS4KY29uc3QgTUFYX1BBWUxPQURfU0laRSA9IDEwMCAqIDEwMjQ7CgpmdW5jdGlvbiBfdXBsb2FkRmlsZXMoaW5wdXRJZCwgb3V0cHV0SWQpIHsKICBjb25zdCBzdGVwcyA9IHVwbG9hZEZpbGVzU3RlcChpbnB1dElkLCBvdXRwdXRJZCk7CiAgY29uc3Qgb3V0cHV0RWxlbWVudCA9IGRvY3VtZW50LmdldEVsZW1lbnRCeUlkKG91dHB1dElkKTsKICAvLyBDYWNoZSBzdGVwcyBvbiB0aGUgb3V0cHV0RWxlbWVudCB0byBtYWtlIGl0IGF2YWlsYWJsZSBmb3IgdGhlIG5leHQgY2FsbAogIC8vIHRvIHVwbG9hZEZpbGVzQ29udGludWUgZnJvbSBQeXRob24uCiAgb3V0cHV0RWxlbWVudC5zdGVwcyA9IHN0ZXBzOwoKICByZXR1cm4gX3VwbG9hZEZpbGVzQ29udGludWUob3V0cHV0SWQpOwp9CgovLyBUaGlzIGlzIHJvdWdobHkgYW4gYXN5bmMgZ2VuZXJhdG9yIChub3Qgc3VwcG9ydGVkIGluIHRoZSBicm93c2VyIHlldCksCi8vIHdoZXJlIHRoZXJlIGFyZSBtdWx0aXBsZSBhc3luY2hyb25vdXMgc3RlcHMgYW5kIHRoZSBQeXRob24gc2lkZSBpcyBnb2luZwovLyB0byBwb2xsIGZvciBjb21wbGV0aW9uIG9mIGVhY2ggc3RlcC4KLy8gVGhpcyB1c2VzIGEgUHJvbWlzZSB0byBibG9jayB0aGUgcHl0aG9uIHNpZGUgb24gY29tcGxldGlvbiBvZiBlYWNoIHN0ZXAsCi8vIHRoZW4gcGFzc2VzIHRoZSByZXN1bHQgb2YgdGhlIHByZXZpb3VzIHN0ZXAgYXMgdGhlIGlucHV0IHRvIHRoZSBuZXh0IHN0ZXAuCmZ1bmN0aW9uIF91cGxvYWRGaWxlc0NvbnRpbnVlKG91dHB1dElkKSB7CiAgY29uc3Qgb3V0cHV0RWxlbWVudCA9IGRvY3VtZW50LmdldEVsZW1lbnRCeUlkKG91dHB1dElkKTsKICBjb25zdCBzdGVwcyA9IG91dHB1dEVsZW1lbnQuc3RlcHM7CgogIGNvbnN0IG5leHQgPSBzdGVwcy5uZXh0KG91dHB1dEVsZW1lbnQubGFzdFByb21pc2VWYWx1ZSk7CiAgcmV0dXJuIFByb21pc2UucmVzb2x2ZShuZXh0LnZhbHVlLnByb21pc2UpLnRoZW4oKHZhbHVlKSA9PiB7CiAgICAvLyBDYWNoZSB0aGUgbGFzdCBwcm9taXNlIHZhbHVlIHRvIG1ha2UgaXQgYXZhaWxhYmxlIHRvIHRoZSBuZXh0CiAgICAvLyBzdGVwIG9mIHRoZSBnZW5lcmF0b3IuCiAgICBvdXRwdXRFbGVtZW50Lmxhc3RQcm9taXNlVmFsdWUgPSB2YWx1ZTsKICAgIHJldHVybiBuZXh0LnZhbHVlLnJlc3BvbnNlOwogIH0pOwp9CgovKioKICogR2VuZXJhdG9yIGZ1bmN0aW9uIHdoaWNoIGlzIGNhbGxlZCBiZXR3ZWVuIGVhY2ggYXN5bmMgc3RlcCBvZiB0aGUgdXBsb2FkCiAqIHByb2Nlc3MuCiAqIEBwYXJhbSB7c3RyaW5nfSBpbnB1dElkIEVsZW1lbnQgSUQgb2YgdGhlIGlucHV0IGZpbGUgcGlja2VyIGVsZW1lbnQuCiAqIEBwYXJhbSB7c3RyaW5nfSBvdXRwdXRJZCBFbGVtZW50IElEIG9mIHRoZSBvdXRwdXQgZGlzcGxheS4KICogQHJldHVybiB7IUl0ZXJhYmxlPCFPYmplY3Q+fSBJdGVyYWJsZSBvZiBuZXh0IHN0ZXBzLgogKi8KZnVuY3Rpb24qIHVwbG9hZEZpbGVzU3RlcChpbnB1dElkLCBvdXRwdXRJZCkgewogIGNvbnN0IGlucHV0RWxlbWVudCA9IGRvY3VtZW50LmdldEVsZW1lbnRCeUlkKGlucHV0SWQpOwogIGlucHV0RWxlbWVudC5kaXNhYmxlZCA9IGZhbHNlOwoKICBjb25zdCBvdXRwdXRFbGVtZW50ID0gZG9jdW1lbnQuZ2V0RWxlbWVudEJ5SWQob3V0cHV0SWQpOwogIG91dHB1dEVsZW1lbnQuaW5uZXJIVE1MID0gJyc7CgogIGNvbnN0IHBpY2tlZFByb21pc2UgPSBuZXcgUHJvbWlzZSgocmVzb2x2ZSkgPT4gewogICAgaW5wdXRFbGVtZW50LmFkZEV2ZW50TGlzdGVuZXIoJ2NoYW5nZScsIChlKSA9PiB7CiAgICAgIHJlc29sdmUoZS50YXJnZXQuZmlsZXMpOwogICAgfSk7CiAgfSk7CgogIGNvbnN0IGNhbmNlbCA9IGRvY3VtZW50LmNyZWF0ZUVsZW1lbnQoJ2J1dHRvbicpOwogIGlucHV0RWxlbWVudC5wYXJlbnRFbGVtZW50LmFwcGVuZENoaWxkKGNhbmNlbCk7CiAgY2FuY2VsLnRleHRDb250ZW50ID0gJ0NhbmNlbCB1cGxvYWQnOwogIGNvbnN0IGNhbmNlbFByb21pc2UgPSBuZXcgUHJvbWlzZSgocmVzb2x2ZSkgPT4gewogICAgY2FuY2VsLm9uY2xpY2sgPSAoKSA9PiB7CiAgICAgIHJlc29sdmUobnVsbCk7CiAgICB9OwogIH0pOwoKICAvLyBXYWl0IGZvciB0aGUgdXNlciB0byBwaWNrIHRoZSBmaWxlcy4KICBjb25zdCBmaWxlcyA9IHlpZWxkIHsKICAgIHByb21pc2U6IFByb21pc2UucmFjZShbcGlja2VkUHJvbWlzZSwgY2FuY2VsUHJvbWlzZV0pLAogICAgcmVzcG9uc2U6IHsKICAgICAgYWN0aW9uOiAnc3RhcnRpbmcnLAogICAgfQogIH07CgogIGNhbmNlbC5yZW1vdmUoKTsKCiAgLy8gRGlzYWJsZSB0aGUgaW5wdXQgZWxlbWVudCBzaW5jZSBmdXJ0aGVyIHBpY2tzIGFyZSBub3QgYWxsb3dlZC4KICBpbnB1dEVsZW1lbnQuZGlzYWJsZWQgPSB0cnVlOwoKICBpZiAoIWZpbGVzKSB7CiAgICByZXR1cm4gewogICAgICByZXNwb25zZTogewogICAgICAgIGFjdGlvbjogJ2NvbXBsZXRlJywKICAgICAgfQogICAgfTsKICB9CgogIGZvciAoY29uc3QgZmlsZSBvZiBmaWxlcykgewogICAgY29uc3QgbGkgPSBkb2N1bWVudC5jcmVhdGVFbGVtZW50KCdsaScpOwogICAgbGkuYXBwZW5kKHNwYW4oZmlsZS5uYW1lLCB7Zm9udFdlaWdodDogJ2JvbGQnfSkpOwogICAgbGkuYXBwZW5kKHNwYW4oCiAgICAgICAgYCgke2ZpbGUudHlwZSB8fCAnbi9hJ30pIC0gJHtmaWxlLnNpemV9IGJ5dGVzLCBgICsKICAgICAgICBgbGFzdCBtb2RpZmllZDogJHsKICAgICAgICAgICAgZmlsZS5sYXN0TW9kaWZpZWREYXRlID8gZmlsZS5sYXN0TW9kaWZpZWREYXRlLnRvTG9jYWxlRGF0ZVN0cmluZygpIDoKICAgICAgICAgICAgICAgICAgICAgICAgICAgICAgICAgICAgJ24vYSd9IC0gYCkpOwogICAgY29uc3QgcGVyY2VudCA9IHNwYW4oJzAlIGRvbmUnKTsKICAgIGxpLmFwcGVuZENoaWxkKHBlcmNlbnQpOwoKICAgIG91dHB1dEVsZW1lbnQuYXBwZW5kQ2hpbGQobGkpOwoKICAgIGNvbnN0IGZpbGVEYXRhUHJvbWlzZSA9IG5ldyBQcm9taXNlKChyZXNvbHZlKSA9PiB7CiAgICAgIGNvbnN0IHJlYWRlciA9IG5ldyBGaWxlUmVhZGVyKCk7CiAgICAgIHJlYWRlci5vbmxvYWQgPSAoZSkgPT4gewogICAgICAgIHJlc29sdmUoZS50YXJnZXQucmVzdWx0KTsKICAgICAgfTsKICAgICAgcmVhZGVyLnJlYWRBc0FycmF5QnVmZmVyKGZpbGUpOwogICAgfSk7CiAgICAvLyBXYWl0IGZvciB0aGUgZGF0YSB0byBiZSByZWFkeS4KICAgIGxldCBmaWxlRGF0YSA9IHlpZWxkIHsKICAgICAgcHJvbWlzZTogZmlsZURhdGFQcm9taXNlLAogICAgICByZXNwb25zZTogewogICAgICAgIGFjdGlvbjogJ2NvbnRpbnVlJywKICAgICAgfQogICAgfTsKCiAgICAvLyBVc2UgYSBjaHVua2VkIHNlbmRpbmcgdG8gYXZvaWQgbWVzc2FnZSBzaXplIGxpbWl0cy4gU2VlIGIvNjIxMTU2NjAuCiAgICBsZXQgcG9zaXRpb24gPSAwOwogICAgZG8gewogICAgICBjb25zdCBsZW5ndGggPSBNYXRoLm1pbihmaWxlRGF0YS5ieXRlTGVuZ3RoIC0gcG9zaXRpb24sIE1BWF9QQVlMT0FEX1NJWkUpOwogICAgICBjb25zdCBjaHVuayA9IG5ldyBVaW50OEFycmF5KGZpbGVEYXRhLCBwb3NpdGlvbiwgbGVuZ3RoKTsKICAgICAgcG9zaXRpb24gKz0gbGVuZ3RoOwoKICAgICAgY29uc3QgYmFzZTY0ID0gYnRvYShTdHJpbmcuZnJvbUNoYXJDb2RlLmFwcGx5KG51bGwsIGNodW5rKSk7CiAgICAgIHlpZWxkIHsKICAgICAgICByZXNwb25zZTogewogICAgICAgICAgYWN0aW9uOiAnYXBwZW5kJywKICAgICAgICAgIGZpbGU6IGZpbGUubmFtZSwKICAgICAgICAgIGRhdGE6IGJhc2U2NCwKICAgICAgICB9LAogICAgICB9OwoKICAgICAgbGV0IHBlcmNlbnREb25lID0gZmlsZURhdGEuYnl0ZUxlbmd0aCA9PT0gMCA/CiAgICAgICAgICAxMDAgOgogICAgICAgICAgTWF0aC5yb3VuZCgocG9zaXRpb24gLyBmaWxlRGF0YS5ieXRlTGVuZ3RoKSAqIDEwMCk7CiAgICAgIHBlcmNlbnQudGV4dENvbnRlbnQgPSBgJHtwZXJjZW50RG9uZX0lIGRvbmVgOwoKICAgIH0gd2hpbGUgKHBvc2l0aW9uIDwgZmlsZURhdGEuYnl0ZUxlbmd0aCk7CiAgfQoKICAvLyBBbGwgZG9uZS4KICB5aWVsZCB7CiAgICByZXNwb25zZTogewogICAgICBhY3Rpb246ICdjb21wbGV0ZScsCiAgICB9CiAgfTsKfQoKc2NvcGUuZ29vZ2xlID0gc2NvcGUuZ29vZ2xlIHx8IHt9OwpzY29wZS5nb29nbGUuY29sYWIgPSBzY29wZS5nb29nbGUuY29sYWIgfHwge307CnNjb3BlLmdvb2dsZS5jb2xhYi5fZmlsZXMgPSB7CiAgX3VwbG9hZEZpbGVzLAogIF91cGxvYWRGaWxlc0NvbnRpbnVlLAp9Owp9KShzZWxmKTsK",
              "ok": true,
              "headers": [
                [
                  "content-type",
                  "application/javascript"
                ]
              ],
              "status": 200,
              "status_text": ""
            }
          },
          "base_uri": "https://localhost:8080/",
          "height": 74
        },
        "id": "_O047q4aEb-q",
        "outputId": "0ace3d85-a953-480f-ed7f-ae86e4966fdc"
      },
      "source": [
        "from google.colab import files\n",
        "\n",
        "files.upload()"
      ],
      "execution_count": 13,
      "outputs": [
        {
          "output_type": "display_data",
          "data": {
            "text/html": [
              "\n",
              "     <input type=\"file\" id=\"files-586605ae-6bfb-4d19-8f94-2054b78c36ce\" name=\"files[]\" multiple disabled\n",
              "        style=\"border:none\" />\n",
              "     <output id=\"result-586605ae-6bfb-4d19-8f94-2054b78c36ce\">\n",
              "      Upload widget is only available when the cell has been executed in the\n",
              "      current browser session. Please rerun this cell to enable.\n",
              "      </output>\n",
              "      <script src=\"/nbextensions/google.colab/files.js\"></script> "
            ],
            "text/plain": [
              "<IPython.core.display.HTML object>"
            ]
          },
          "metadata": {}
        },
        {
          "output_type": "stream",
          "name": "stdout",
          "text": [
            "Saving kaggle.json to kaggle (1).json\n"
          ]
        },
        {
          "output_type": "execute_result",
          "data": {
            "text/plain": [
              "{'kaggle.json': b'{\"username\":\"ppranav033\",\"key\":\"ea3bc2c44edac99130862f19e1ed308c\"}'}"
            ]
          },
          "metadata": {},
          "execution_count": 13
        }
      ]
    },
    {
      "cell_type": "code",
      "metadata": {
        "id": "XlAWVD60-uz7"
      },
      "source": [
        "! cp kaggle.json ~/.kaggle/"
      ],
      "execution_count": 14,
      "outputs": []
    },
    {
      "cell_type": "code",
      "metadata": {
        "id": "rF7te-fC-4E6"
      },
      "source": [
        " ! chmod 600 ~/.kaggle/kaggle.json"
      ],
      "execution_count": 15,
      "outputs": []
    },
    {
      "cell_type": "code",
      "metadata": {
        "id": "c8K2zi8v-7JA",
        "colab": {
          "base_uri": "https://localhost:8080/"
        },
        "outputId": "9ea2d643-704f-433c-89f5-feab24c4ef28"
      },
      "source": [
        "! kaggle datasets list"
      ],
      "execution_count": 16,
      "outputs": [
        {
          "output_type": "stream",
          "name": "stdout",
          "text": [
            "Warning: Looks like you're using an outdated API Version, please consider updating (server 1.5.12 / client 1.5.4)\n",
            "ref                                                         title                                              size  lastUpdated          downloadCount  \n",
            "----------------------------------------------------------  ------------------------------------------------  -----  -------------------  -------------  \n",
            "gpreda/reddit-vaccine-myths                                 Reddit Vaccine Myths                              235KB  2021-10-21 20:52:33          14395  \n",
            "crowww/a-large-scale-fish-dataset                           A Large Scale Fish Dataset                          3GB  2021-04-28 17:03:01           8667  \n",
            "imsparsh/musicnet-dataset                                   MusicNet Dataset                                   22GB  2021-02-18 14:12:19           3851  \n",
            "dhruvildave/wikibooks-dataset                               Wikibooks Dataset                                   2GB  2021-10-22 10:48:21           3229  \n",
            "fatiimaezzahra/famous-iconic-women                          Famous Iconic Women                               838MB  2021-02-28 14:56:00           1677  \n",
            "promptcloud/careerbuilder-job-listing-2020                  Careerbuilder Job Listing 2020                     42MB  2021-03-05 06:59:52           2328  \n",
            "nickuzmenkov/nih-chest-xrays-tfrecords                      NIH Chest X-rays TFRecords                         11GB  2021-03-09 04:49:23           1407  \n",
            "mathurinache/twitter-edge-nodes                             Twitter Edge Nodes                                342MB  2021-03-08 06:43:04           1150  \n",
            "alsgroup/end-als                                            End ALS Kaggle Challenge                           12GB  2021-04-08 12:16:37           1025  \n",
            "simiotic/github-code-snippets                               GitHub Code Snippets                                7GB  2021-03-03 11:34:39            412  \n",
            "mathurinache/the-lj-speech-dataset                          The LJ Speech Dataset                               3GB  2021-02-15 09:19:54            421  \n",
            "coloradokb/dandelionimages                                  DandelionImages                                     4GB  2021-02-19 20:03:47            960  \n",
            "stuartjames/lights                                          LightS: Light Specularity Dataset                  18GB  2021-02-18 14:32:26            182  \n",
            "nickuzmenkov/ranzcr-clip-kfold-tfrecords                    RANZCR CLiP KFold TFRecords                         2GB  2021-02-21 13:29:51            141  \n",
            "imsparsh/accentdb-core-extended                             AccentDB - Core & Extended                          6GB  2021-02-17 14:22:54            164  \n",
            "landrykezebou/lvzhdr-tone-mapping-benchmark-dataset-tmonet  LVZ-HDR Tone Mapping Benchmark Dataset (TMO-Net)   24GB  2021-03-01 05:03:40            220  \n",
            "datasnaek/youtube-new                                       Trending YouTube Video Statistics                 201MB  2019-06-03 00:56:47         155319  \n",
            "residentmario/ramen-ratings                                 Ramen Ratings                                      40KB  2018-01-11 16:04:39          28733  \n",
            "zynicide/wine-reviews                                       Wine Reviews                                       51MB  2017-11-27 17:08:04         146565  \n",
            "datasnaek/chess                                             Chess Game Dataset (Lichess)                        3MB  2017-09-04 03:09:09          23654  \n"
          ]
        }
      ]
    },
    {
      "cell_type": "code",
      "metadata": {
        "id": "vB_amkxl-_sO",
        "colab": {
          "base_uri": "https://localhost:8080/"
        },
        "outputId": "bf2a5163-6f55-40a0-cfce-73bf13ff1dd7"
      },
      "source": [
        "!kaggle datasets download -d paultimothymooney/chest-xray-pneumonia"
      ],
      "execution_count": 17,
      "outputs": [
        {
          "output_type": "stream",
          "name": "stdout",
          "text": [
            "Downloading chest-xray-pneumonia.zip to /content\n",
            "100% 2.29G/2.29G [00:26<00:00, 31.7MB/s]\n",
            "\n"
          ]
        }
      ]
    },
    {
      "cell_type": "code",
      "metadata": {
        "id": "PUV7eQ5k_zD6"
      },
      "source": [
        "! unzip chest-xray-pneumonia.zip"
      ],
      "execution_count": null,
      "outputs": []
    },
    {
      "cell_type": "code",
      "metadata": {
        "id": "3CCNSyCYApPd",
        "colab": {
          "base_uri": "https://localhost:8080/"
        },
        "outputId": "c0613910-2433-4233-9e38-cd15505b5475"
      },
      "source": [
        "!pwd"
      ],
      "execution_count": 19,
      "outputs": [
        {
          "output_type": "stream",
          "name": "stdout",
          "text": [
            "/content\n"
          ]
        }
      ]
    },
    {
      "cell_type": "code",
      "metadata": {
        "_cell_guid": "b1076dfc-b9ad-4769-8c92-a6c4dae69d19",
        "_uuid": "8f2839f25d086af736a60e9eeb907d3b93b6e0e5",
        "execution": {
          "iopub.execute_input": "2021-10-24T04:58:45.930249Z",
          "iopub.status.busy": "2021-10-24T04:58:45.929943Z",
          "iopub.status.idle": "2021-10-24T04:58:45.935755Z",
          "shell.execute_reply": "2021-10-24T04:58:45.934711Z",
          "shell.execute_reply.started": "2021-10-24T04:58:45.930219Z"
        },
        "id": "1Yu3Oogt4giS"
      },
      "source": [
        "import tensorflow\n",
        "import pandas as pd\n",
        "import numpy as np\n",
        "import os\n",
        "import keras\n",
        "from tensorflow.keras.applications import DenseNet169, DenseNet121, MobileNet\n",
        "from tensorflow.keras.applications.densenet import preprocess_input\n",
        "from tensorflow.keras.preprocessing import image_dataset_from_directory\n",
        "from keras.preprocessing.image import ImageDataGenerator\n",
        "from tensorflow.keras.layers import Dense, GlobalAveragePooling2D, BatchNormalization, Dropout\n",
        "from tensorflow.keras.models import Model\n",
        "from tensorflow.keras import regularizers\n",
        "\n",
        "import matplotlib.pyplot as plt"
      ],
      "execution_count": 20,
      "outputs": []
    },
    {
      "cell_type": "code",
      "metadata": {
        "id": "eHPhtWfJ4giY"
      },
      "source": [
        "base_model = DenseNet121(\n",
        "    include_top=False,\n",
        "    weights=\"imagenet\",\n",
        "    input_shape=(224,224,3)\n",
        ")\n",
        "base_model.summary()"
      ],
      "execution_count": null,
      "outputs": []
    },
    {
      "cell_type": "code",
      "metadata": {
        "id": "E_oRXsA_4gia"
      },
      "source": [
        "training_dir='./chest_xray/train/'\n",
        "validation_dir='./chest_xray/val/'\n",
        "test_dir='./chest_xray/test/'"
      ],
      "execution_count": 22,
      "outputs": []
    },
    {
      "cell_type": "code",
      "metadata": {
        "id": "AEOZGcYE4gib",
        "colab": {
          "base_uri": "https://localhost:8080/"
        },
        "outputId": "cfbc9466-71f0-48e3-fe3f-6f75f1eccf9d"
      },
      "source": [
        "test_ds = image_dataset_from_directory(\n",
        "    directory=test_dir,\n",
        "    labels='inferred',\n",
        "    label_mode='binary',\n",
        "    batch_size=16,\n",
        "    image_size=(224, 224),\n",
        "    )"
      ],
      "execution_count": 23,
      "outputs": [
        {
          "output_type": "stream",
          "name": "stdout",
          "text": [
            "Found 624 files belonging to 2 classes.\n"
          ]
        }
      ]
    },
    {
      "cell_type": "code",
      "metadata": {
        "id": "WiTsxTnw4gid",
        "colab": {
          "base_uri": "https://localhost:8080/"
        },
        "outputId": "c5c57e27-d3f5-43c8-dc8b-b72dbd39638d"
      },
      "source": [
        "train_ds = image_dataset_from_directory(\n",
        "    directory=training_dir,\n",
        "    shuffle=True,\n",
        "    labels='inferred',\n",
        "    label_mode='binary',\n",
        "    batch_size=16,\n",
        "    image_size=(224, 224),\n",
        "    )"
      ],
      "execution_count": 24,
      "outputs": [
        {
          "output_type": "stream",
          "name": "stdout",
          "text": [
            "Found 5216 files belonging to 2 classes.\n"
          ]
        }
      ]
    },
    {
      "cell_type": "code",
      "metadata": {
        "id": "j44JdVtI4gie",
        "colab": {
          "base_uri": "https://localhost:8080/"
        },
        "outputId": "326a7741-8e44-4e8c-f37b-6aed31016ce2"
      },
      "source": [
        "validation_ds = image_dataset_from_directory(\n",
        "    directory=validation_dir,\n",
        "    labels='inferred',\n",
        "    label_mode='binary',\n",
        "    batch_size=16,\n",
        "    image_size=(224, 224),\n",
        "    )"
      ],
      "execution_count": 25,
      "outputs": [
        {
          "output_type": "stream",
          "name": "stdout",
          "text": [
            "Found 16 files belonging to 2 classes.\n"
          ]
        }
      ]
    },
    {
      "cell_type": "code",
      "metadata": {
        "id": "YTfI_zY42dYP"
      },
      "source": [
        "data_augmentation = tensorflow.keras.Sequential([\n",
        "  tensorflow.keras.layers.experimental.preprocessing.RandomFlip('horizontal'),\n",
        "  tensorflow.keras.layers.experimental.preprocessing.RandomRotation(0.2),\n",
        "])"
      ],
      "execution_count": 26,
      "outputs": []
    },
    {
      "cell_type": "code",
      "metadata": {
        "id": "lFcTR6_W4gif",
        "colab": {
          "base_uri": "https://localhost:8080/"
        },
        "outputId": "3f822e8c-68c0-436b-a892-720fa5bde22d"
      },
      "source": [
        "test_ds"
      ],
      "execution_count": 27,
      "outputs": [
        {
          "output_type": "execute_result",
          "data": {
            "text/plain": [
              "<BatchDataset shapes: ((None, 224, 224, 3), (None, 1)), types: (tf.float32, tf.float32)>"
            ]
          },
          "metadata": {},
          "execution_count": 27
        }
      ]
    },
    {
      "cell_type": "code",
      "metadata": {
        "id": "bxoc-2fT4gih"
      },
      "source": [
        "x=base_model.output\n",
        "\n",
        "x= data_augmentation(x)\n",
        "x= GlobalAveragePooling2D()(x)\n",
        "x= BatchNormalization()(x)\n",
        "x= Dropout(0.6)(x)\n",
        "# x= Dense(1024,activation='relu')(x) \n",
        "x= Dense(512,kernel_regularizer=regularizers.l2(0.0001), activation='relu')(x) \n",
        "x= BatchNormalization()(x)\n",
        "x= Dropout(0.6)(x)\n",
        "\n",
        "preds=Dense(2,activation='softmax')(x)"
      ],
      "execution_count": 28,
      "outputs": []
    },
    {
      "cell_type": "code",
      "metadata": {
        "id": "NvP7xduG4gii"
      },
      "source": [
        "model=Model(inputs=base_model.input,outputs=preds)\n",
        "model.summary()"
      ],
      "execution_count": null,
      "outputs": []
    },
    {
      "cell_type": "code",
      "metadata": {
        "id": "OlKiqzkH4gik"
      },
      "source": [
        "# for layer in model.layers[:-8]:\n",
        "#     layer.trainable=False\n",
        "\n",
        "# for layer in model.layers[-8:]:\n",
        "#     layer.trainable=True"
      ],
      "execution_count": 30,
      "outputs": []
    },
    {
      "cell_type": "code",
      "metadata": {
        "id": "w87M9KQ5kMp-"
      },
      "source": [
        "base_model.trainable = False"
      ],
      "execution_count": 31,
      "outputs": []
    },
    {
      "cell_type": "code",
      "metadata": {
        "id": "xlaQOZW1kUFH"
      },
      "source": [
        "model.compile(optimizer=tensorflow.keras.optimizers.Adam(learning_rate=1e-4),loss='sparse_categorical_crossentropy',metrics=['accuracy'])\n"
      ],
      "execution_count": 32,
      "outputs": []
    },
    {
      "cell_type": "code",
      "metadata": {
        "id": "xlq7YQ6pGIbx",
        "colab": {
          "base_uri": "https://localhost:8080/"
        },
        "outputId": "c1749e9c-6b48-48f1-dd9c-1b30fba1f537"
      },
      "source": [
        "len(model.trainable_variables)"
      ],
      "execution_count": 33,
      "outputs": [
        {
          "output_type": "execute_result",
          "data": {
            "text/plain": [
              "8"
            ]
          },
          "metadata": {},
          "execution_count": 33
        }
      ]
    },
    {
      "cell_type": "code",
      "metadata": {
        "id": "N_AZtVTQRmk0"
      },
      "source": [
        "initial_epochs = 20"
      ],
      "execution_count": 34,
      "outputs": []
    },
    {
      "cell_type": "code",
      "metadata": {
        "id": "5lybWMXwkUwH",
        "colab": {
          "base_uri": "https://localhost:8080/"
        },
        "outputId": "d9ca9eea-4c08-4093-a637-b6c3b700fbe2"
      },
      "source": [
        "history=model.fit(x=train_ds,\n",
        "                           validation_data=validation_ds,\n",
        "                           epochs=initial_epochs,\n",
        "                           verbose=1)"
      ],
      "execution_count": 35,
      "outputs": [
        {
          "output_type": "stream",
          "name": "stdout",
          "text": [
            "326/326 [==============================] - 83s 136ms/step - loss: 0.8104 - accuracy: 0.7391 - val_loss: 0.6247 - val_accuracy: 0.6875\n",
            "Epoch 2/20\n",
            "326/326 [==============================] - 43s 130ms/step - loss: 0.5166 - accuracy: 0.8376 - val_loss: 0.6493 - val_accuracy: 0.6875\n",
            "Epoch 3/20\n",
            "326/326 [==============================] - 43s 131ms/step - loss: 0.4004 - accuracy: 0.8733 - val_loss: 0.9668 - val_accuracy: 0.6250\n",
            "Epoch 4/20\n",
            "326/326 [==============================] - 43s 130ms/step - loss: 0.3704 - accuracy: 0.8894 - val_loss: 0.9307 - val_accuracy: 0.6875\n",
            "Epoch 5/20\n",
            "326/326 [==============================] - 43s 130ms/step - loss: 0.3283 - accuracy: 0.8992 - val_loss: 0.8948 - val_accuracy: 0.6875\n",
            "Epoch 6/20\n",
            "326/326 [==============================] - 43s 130ms/step - loss: 0.2982 - accuracy: 0.9135 - val_loss: 1.0210 - val_accuracy: 0.6250\n",
            "Epoch 7/20\n",
            "326/326 [==============================] - 43s 130ms/step - loss: 0.2919 - accuracy: 0.9158 - val_loss: 1.0711 - val_accuracy: 0.6250\n",
            "Epoch 8/20\n",
            "326/326 [==============================] - 43s 130ms/step - loss: 0.2751 - accuracy: 0.9202 - val_loss: 1.0508 - val_accuracy: 0.6875\n",
            "Epoch 9/20\n",
            "326/326 [==============================] - 43s 129ms/step - loss: 0.2756 - accuracy: 0.9202 - val_loss: 0.9594 - val_accuracy: 0.6875\n",
            "Epoch 10/20\n",
            "326/326 [==============================] - 43s 130ms/step - loss: 0.2737 - accuracy: 0.9199 - val_loss: 0.9167 - val_accuracy: 0.6875\n",
            "Epoch 11/20\n",
            "326/326 [==============================] - 43s 128ms/step - loss: 0.2574 - accuracy: 0.9291 - val_loss: 0.9609 - val_accuracy: 0.6250\n",
            "Epoch 12/20\n",
            "326/326 [==============================] - 43s 129ms/step - loss: 0.2524 - accuracy: 0.9247 - val_loss: 0.9926 - val_accuracy: 0.6250\n",
            "Epoch 13/20\n",
            "326/326 [==============================] - 43s 129ms/step - loss: 0.2582 - accuracy: 0.9229 - val_loss: 0.7953 - val_accuracy: 0.6250\n",
            "Epoch 14/20\n",
            "326/326 [==============================] - 43s 129ms/step - loss: 0.2290 - accuracy: 0.9329 - val_loss: 0.8333 - val_accuracy: 0.6250\n",
            "Epoch 15/20\n",
            "326/326 [==============================] - 43s 129ms/step - loss: 0.2314 - accuracy: 0.9371 - val_loss: 0.7848 - val_accuracy: 0.6250\n",
            "Epoch 16/20\n",
            "326/326 [==============================] - 43s 129ms/step - loss: 0.2221 - accuracy: 0.9365 - val_loss: 0.7264 - val_accuracy: 0.6250\n",
            "Epoch 17/20\n",
            "326/326 [==============================] - 43s 129ms/step - loss: 0.2229 - accuracy: 0.9362 - val_loss: 0.6423 - val_accuracy: 0.6250\n",
            "Epoch 18/20\n",
            "326/326 [==============================] - 43s 129ms/step - loss: 0.2060 - accuracy: 0.9394 - val_loss: 0.6696 - val_accuracy: 0.6875\n",
            "Epoch 19/20\n",
            "326/326 [==============================] - 43s 129ms/step - loss: 0.2207 - accuracy: 0.9371 - val_loss: 0.6352 - val_accuracy: 0.6875\n",
            "Epoch 20/20\n",
            "326/326 [==============================] - 43s 128ms/step - loss: 0.2036 - accuracy: 0.9431 - val_loss: 0.5705 - val_accuracy: 0.7500\n"
          ]
        }
      ]
    },
    {
      "cell_type": "code",
      "metadata": {
        "id": "EDzgDRh5rxQB",
        "colab": {
          "base_uri": "https://localhost:8080/"
        },
        "outputId": "9b5416c7-221b-4626-eb16-b47cbdc76b5e"
      },
      "source": [
        "score = model.evaluate(test_ds, verbose = 1) "
      ],
      "execution_count": 36,
      "outputs": [
        {
          "output_type": "stream",
          "name": "stdout",
          "text": [
            "39/39 [==============================] - 5s 122ms/step - loss: 0.7336 - accuracy: 0.7901\n"
          ]
        }
      ]
    },
    {
      "cell_type": "code",
      "metadata": {
        "id": "HL_iR2ZTCYVF",
        "colab": {
          "base_uri": "https://localhost:8080/",
          "height": 513
        },
        "outputId": "73f47a15-c7a1-4f02-ba7d-7759cf5be2b9"
      },
      "source": [
        "acc = history.history['accuracy']\n",
        "val_acc = history.history['val_accuracy']\n",
        "\n",
        "loss = history.history['loss']\n",
        "val_loss = history.history['val_loss']\n",
        "\n",
        "plt.figure(figsize=(8, 8))\n",
        "plt.subplot(2, 1, 1)\n",
        "plt.plot(acc, label='Training Accuracy')\n",
        "plt.plot(val_acc, label='Validation Accuracy')\n",
        "plt.legend(loc='lower right')\n",
        "plt.ylabel('Accuracy')\n",
        "plt.ylim([min(plt.ylim()),1])\n",
        "plt.title('Training and Validation Accuracy')\n",
        "\n",
        "plt.subplot(2, 1, 2)\n",
        "plt.plot(loss, label='Training Loss')\n",
        "plt.plot(val_loss, label='Validation Loss')\n",
        "plt.legend(loc='upper right')\n",
        "plt.ylabel('Cross Entropy')\n",
        "plt.ylim([0,1.0])\n",
        "plt.title('Training and Validation Loss')\n",
        "plt.xlabel('epoch')\n",
        "plt.show()"
      ],
      "execution_count": 37,
      "outputs": [
        {
          "output_type": "display_data",
          "data": {
            "image/png": "[encoded data removed]",
            "text/plain": [
              "<Figure size 576x576 with 2 Axes>"
            ]
          },
          "metadata": {
            "needs_background": "light"
          }
        }
      ]
    },
    {
      "cell_type": "code",
      "metadata": {
        "id": "HDuYc0vEQlOv"
      },
      "source": [
        "base_model.trainable = True"
      ],
      "execution_count": 38,
      "outputs": []
    },
    {
      "cell_type": "code",
      "metadata": {
        "id": "IZEx-IiYQut2",
        "colab": {
          "base_uri": "https://localhost:8080/"
        },
        "outputId": "9464012b-b9e7-4c14-d619-13d8d496f733"
      },
      "source": [
        "# Let's take a look to see how many layers are in the base model\n",
        "print(\"Number of layers in the base model: \", len(base_model.layers))\n",
        "\n",
        "# Fine-tune from this layer onwards\n",
        "fine_tune_at = 42\n",
        "\n",
        "# Freeze all the layers before the `fine_tune_at` layer\n",
        "for layer in base_model.layers[:fine_tune_at]:\n",
        "  layer.trainable =  False"
      ],
      "execution_count": 39,
      "outputs": [
        {
          "output_type": "stream",
          "name": "stdout",
          "text": [
            "Number of layers in the base model:  427\n"
          ]
        }
      ]
    },
    {
      "cell_type": "code",
      "metadata": {
        "id": "zk7_RnykQ2zn"
      },
      "source": [
        "model.compile(optimizer=tensorflow.keras.optimizers.Adam(learning_rate=1e-5),loss='sparse_categorical_crossentropy',metrics=['accuracy'])"
      ],
      "execution_count": 40,
      "outputs": []
    },
    {
      "cell_type": "code",
      "metadata": {
        "id": "RljlnHLYRMlt",
        "colab": {
          "base_uri": "https://localhost:8080/"
        },
        "outputId": "cc9f052c-2762-4a81-ca44-a577b9a68e66"
      },
      "source": [
        "len(model.trainable_variables)"
      ],
      "execution_count": 41,
      "outputs": [
        {
          "output_type": "execute_result",
          "data": {
            "text/plain": [
              "337"
            ]
          },
          "metadata": {},
          "execution_count": 41
        }
      ]
    },
    {
      "cell_type": "code",
      "metadata": {
        "id": "O2Ee-hy3RWmM",
        "colab": {
          "base_uri": "https://localhost:8080/"
        },
        "outputId": "9848627f-2717-4371-884d-68f618e4467b"
      },
      "source": [
        "fine_tune_epochs = 20\n",
        "total_epochs =  initial_epochs + fine_tune_epochs\n",
        "\n",
        "history_fine = model.fit(train_ds,\n",
        "                         epochs=total_epochs,\n",
        "                         initial_epoch=history.epoch[-1],\n",
        "                         validation_data=validation_ds)"
      ],
      "execution_count": 42,
      "outputs": [
        {
          "output_type": "stream",
          "name": "stdout",
          "text": [
            "Epoch 20/40\n",
            "326/326 [==============================] - 130s 335ms/step - loss: 0.4152 - accuracy: 0.8723 - val_loss: 0.6458 - val_accuracy: 0.6875\n",
            "Epoch 21/40\n",
            "326/326 [==============================] - 108s 329ms/step - loss: 0.2331 - accuracy: 0.9291 - val_loss: 0.2925 - val_accuracy: 0.9375\n",
            "Epoch 22/40\n",
            "326/326 [==============================] - 108s 329ms/step - loss: 0.1924 - accuracy: 0.9488 - val_loss: 0.2273 - val_accuracy: 0.8750\n",
            "Epoch 23/40\n",
            "326/326 [==============================] - 108s 330ms/step - loss: 0.1526 - accuracy: 0.9628 - val_loss: 0.1530 - val_accuracy: 1.0000\n",
            "Epoch 24/40\n",
            "326/326 [==============================] - 108s 330ms/step - loss: 0.1396 - accuracy: 0.9705 - val_loss: 0.2685 - val_accuracy: 0.8125\n",
            "Epoch 25/40\n",
            "326/326 [==============================] - 108s 330ms/step - loss: 0.1340 - accuracy: 0.9703 - val_loss: 0.1629 - val_accuracy: 0.9375\n",
            "Epoch 26/40\n",
            "326/326 [==============================] - 108s 330ms/step - loss: 0.1164 - accuracy: 0.9768 - val_loss: 0.2298 - val_accuracy: 0.8750\n",
            "Epoch 27/40\n",
            "326/326 [==============================] - 108s 331ms/step - loss: 0.1069 - accuracy: 0.9785 - val_loss: 0.2259 - val_accuracy: 0.9375\n",
            "Epoch 28/40\n",
            "326/326 [==============================] - 109s 330ms/step - loss: 0.1044 - accuracy: 0.9806 - val_loss: 0.2031 - val_accuracy: 0.9375\n",
            "Epoch 29/40\n",
            "326/326 [==============================] - 108s 330ms/step - loss: 0.1050 - accuracy: 0.9801 - val_loss: 0.1446 - val_accuracy: 0.9375\n",
            "Epoch 30/40\n",
            "326/326 [==============================] - 109s 330ms/step - loss: 0.0926 - accuracy: 0.9860 - val_loss: 0.2086 - val_accuracy: 0.9375\n",
            "Epoch 31/40\n",
            "326/326 [==============================] - 108s 330ms/step - loss: 0.0906 - accuracy: 0.9862 - val_loss: 0.1395 - val_accuracy: 0.9375\n",
            "Epoch 32/40\n",
            "326/326 [==============================] - 109s 331ms/step - loss: 0.0884 - accuracy: 0.9870 - val_loss: 0.2142 - val_accuracy: 0.9375\n",
            "Epoch 33/40\n",
            "326/326 [==============================] - 108s 331ms/step - loss: 0.0768 - accuracy: 0.9906 - val_loss: 0.1254 - val_accuracy: 1.0000\n",
            "Epoch 34/40\n",
            "326/326 [==============================] - 109s 331ms/step - loss: 0.0796 - accuracy: 0.9908 - val_loss: 0.1920 - val_accuracy: 0.9375\n",
            "Epoch 35/40\n",
            "326/326 [==============================] - 109s 331ms/step - loss: 0.0769 - accuracy: 0.9902 - val_loss: 0.1493 - val_accuracy: 0.9375\n",
            "Epoch 36/40\n",
            "326/326 [==============================] - 108s 330ms/step - loss: 0.0691 - accuracy: 0.9933 - val_loss: 0.1173 - val_accuracy: 1.0000\n",
            "Epoch 37/40\n",
            "326/326 [==============================] - 108s 330ms/step - loss: 0.0697 - accuracy: 0.9933 - val_loss: 0.1198 - val_accuracy: 0.9375\n",
            "Epoch 38/40\n",
            "326/326 [==============================] - 108s 329ms/step - loss: 0.0756 - accuracy: 0.9916 - val_loss: 0.1141 - val_accuracy: 0.9375\n",
            "Epoch 39/40\n",
            "326/326 [==============================] - 108s 329ms/step - loss: 0.0684 - accuracy: 0.9921 - val_loss: 0.0925 - val_accuracy: 1.0000\n",
            "Epoch 40/40\n",
            "326/326 [==============================] - 108s 329ms/step - loss: 0.0632 - accuracy: 0.9944 - val_loss: 0.4406 - val_accuracy: 0.9375\n"
          ]
        }
      ]
    },
    {
      "cell_type": "code",
      "metadata": {
        "id": "aZnk2onVT5TF",
        "colab": {
          "base_uri": "https://localhost:8080/"
        },
        "outputId": "ee8eaa78-2e14-4a49-d1de-2ccf6d32e3c5"
      },
      "source": [
        "score = model.evaluate(test_ds, verbose = 1) "
      ],
      "execution_count": 43,
      "outputs": [
        {
          "output_type": "stream",
          "name": "stdout",
          "text": [
            "39/39 [==============================] - 5s 123ms/step - loss: 1.2159 - accuracy: 0.7788\n"
          ]
        }
      ]
    },
    {
      "cell_type": "code",
      "metadata": {
        "id": "zFh7rE51UKyM"
      },
      "source": [
        "acc += history_fine.history['accuracy']\n",
        "val_acc += history_fine.history['val_accuracy']\n",
        "\n",
        "loss += history_fine.history['loss']\n",
        "val_loss += history_fine.history['val_loss']"
      ],
      "execution_count": 44,
      "outputs": []
    },
    {
      "cell_type": "code",
      "metadata": {
        "id": "xRFh6ft5UTKl",
        "colab": {
          "base_uri": "https://localhost:8080/",
          "height": 513
        },
        "outputId": "1a4dff9e-a41f-4b82-88af-64008b6efe5b"
      },
      "source": [
        "plt.figure(figsize=(8, 8))\n",
        "plt.subplot(2, 1, 1)\n",
        "plt.plot(acc, label='Training Accuracy')\n",
        "plt.plot(val_acc, label='Validation Accuracy')\n",
        "plt.ylim([0.8, 1])\n",
        "plt.plot([initial_epochs-1,initial_epochs-1],\n",
        "          plt.ylim(), label='Start Fine Tuning')\n",
        "plt.legend(loc='lower right')\n",
        "plt.title('Training and Validation Accuracy')\n",
        "\n",
        "plt.subplot(2, 1, 2)\n",
        "plt.plot(loss, label='Training Loss')\n",
        "plt.plot(val_loss, label='Validation Loss')\n",
        "plt.ylim([0, 1.0])\n",
        "plt.plot([initial_epochs-1,initial_epochs-1],\n",
        "         plt.ylim(), label='Start Fine Tuning')\n",
        "plt.legend(loc='upper right')\n",
        "plt.title('Training and Validation Loss')\n",
        "plt.xlabel('epoch')\n",
        "plt.show()"
      ],
      "execution_count": 45,
      "outputs": [
        {
          "output_type": "display_data",
          "data": {
            "image/png": "[encoded data removed]",
            "text/plain": [
              "<Figure size 576x576 with 2 Axes>"
            ]
          },
          "metadata": {
            "needs_background": "light"
          }
        }
      ]
    },
    {
      "cell_type": "code",
      "metadata": {
        "id": "rl9C5_dWVN4y",
        "colab": {
          "base_uri": "https://localhost:8080/"
        },
        "outputId": "f3e9763b-ae25-4b90-9be9-2de56efac981"
      },
      "source": [
        "model.save('/')"
      ],
      "execution_count": 46,
      "outputs": [
        {
          "output_type": "stream",
          "name": "stdout",
          "text": [
            "INFO:tensorflow:Assets written to: /assets\n"
          ]
        }
      ]
    }
  ]
}